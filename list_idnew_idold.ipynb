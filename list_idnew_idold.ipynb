{
 "cells": [
  {
   "cell_type": "code",
   "execution_count": 4,
   "metadata": {},
   "outputs": [],
   "source": [
    "import string as st\n",
    "import re\n",
    "import codecs\n",
    "\n",
    "def id_texts():\n",
    "    list_big=[]\n",
    "    start_arch=0\n",
    "    end_arch=10000\n",
    "    auxiliar=0\n",
    "    for i in range(0,2):\n",
    "        name_arch=\"englishText_\"+str(start_arch)+\"_\"+str(end_arch)\n",
    "        print(name_arch)\n",
    "        f = open(name_arch)\n",
    "        archiv= f.read()\n",
    "        f.close()\n",
    "        #fo = codecs.open(name_arch, 'r', 'ascii')\n",
    "        #content = fo.read()  ## returns unicode\n",
    "        #assert type(content) == unicode\n",
    "        #fo.close()\n",
    "        #utf8_content = content.encode('utf-8')\n",
    "        #assert type(utf8_content) == str\n",
    "        \n",
    "        #archi=open(name_arch,'r',enconding='lantin-1')\n",
    "        #archiv=utf8_content\n",
    "        list_id = re.findall('<doc id=\"\\d+\"',archiv)\n",
    "        list_text = []\n",
    "    #dic_texts = {}\n",
    "        for i in list_id:\n",
    "            id_original=i[9:len(i)-1]\n",
    "        \n",
    "            start_doc = archiv.find(i)\n",
    "            end_doc = archiv[start_doc:len(archiv)].find('ENDOFARTICLE')+start_doc\n",
    "            doc=archiv[start_doc:end_doc]\n",
    "        \n",
    "            start_title=doc.find('title=')+7\n",
    "            end_title=doc.find('nonfiltered=')-2\n",
    "            title=doc[start_title:end_title]\n",
    "        \n",
    "            start_text=doc.find('\">')+3\n",
    "            end_text=len(doc)\n",
    "            text=doc[start_text:end_text]\n",
    "        \n",
    "            list_text.append([id_original,title,text]) #list_text.append([id_original,title,text])\n",
    "            auxiliar+=1\n",
    "        list_big.extend(list_text)\n",
    "        start_arch+=10000\n",
    "        end_arch+=10000\n",
    "    list_text.sort(key=lambda x: x[1])\n",
    "    #while True:\n",
    "     #   if list_text[0][1]=='' and list_text[0][1]=='':\n",
    "      #      list_text.pop(0)\n",
    "       # else:\n",
    "        #    break\n",
    "    \n",
    "    #return list_text\n",
    "\n",
    "    #dic_texts=[[x[0],x[1]] for x in list_text] #dic_texts={x[0]:[x[1],x[2]] for x in list_text}\n",
    "    \n",
    "    #precisa ser a parte\n",
    "    lista2_text=[]\n",
    "    lista3_text=[]\n",
    "    t=1\n",
    "    for i in list_text:\n",
    "        lista2_text.append(int(i[0]))\n",
    "        lista2_text.append(t)\n",
    "        lista3_text.append(int(i[0]))\n",
    "        lista3_text.append((i[1]))\n",
    "        nome_t=str(t)+\".txt\"\n",
    "        f=open(nome_t,\"w\")\n",
    "        f.write(i[2])\n",
    "        f.close()\n",
    "        t+=1\n",
    "    f=open(\"idold_name.txt\",\"w\")\n",
    "    f.write(str(lista3_text))\n",
    "    f.close()\n",
    "    f=open(\"idold_idnew.txt\",\"w\")\n",
    "    f.write(str(lista2_text))\n",
    "    f.close()\n",
    "    return 0"
   ]
  },
  {
   "cell_type": "code",
   "execution_count": 3,
   "metadata": {},
   "outputs": [
    {
     "name": "stdout",
     "output_type": "stream",
     "text": [
      "englishText_0_10000\n",
      "englishText_10000_20000\n",
      "0\n"
     ]
    }
   ],
   "source": [
    "dic=id_texts()\n",
    "#wordid=word_id(dic)\n",
    "w=str(dic)\n",
    "print(w)"
   ]
  },
  {
   "cell_type": "code",
   "execution_count": null,
   "metadata": {},
   "outputs": [],
   "source": []
  }
 ],
 "metadata": {
  "kernelspec": {
   "display_name": "Python 3",
   "language": "python",
   "name": "python3"
  },
  "language_info": {
   "codemirror_mode": {
    "name": "ipython",
    "version": 3
   },
   "file_extension": ".py",
   "mimetype": "text/x-python",
   "name": "python",
   "nbconvert_exporter": "python",
   "pygments_lexer": "ipython3",
   "version": "3.7.3"
  }
 },
 "nbformat": 4,
 "nbformat_minor": 2
}
