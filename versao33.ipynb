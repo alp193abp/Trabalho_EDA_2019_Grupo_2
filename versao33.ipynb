{
 "cells": [
  {
   "cell_type": "code",
   "execution_count": 0,
   "metadata": {
    "colab": {},
    "colab_type": "code",
    "id": "qCPpXCw9-EPz"
   },
   "outputs": [],
   "source": [
    "import string as st\n",
    "import re"
   ]
  },
  {
   "cell_type": "code",
   "execution_count": 0,
   "metadata": {
    "colab": {},
    "colab_type": "code",
    "id": "nNaZcHSk-LT3"
   },
   "outputs": [],
   "source": [
    "def id_texts(archiv):\n",
    "    list_id = re.findall('<doc id=\"\\d+\"',archiv)\n",
    "    list_text =[]\n",
    "    dic_texts = {}\n",
    "    for i in list_id:\n",
    "        id_original=i[9:len(i)-1]\n",
    "        \n",
    "        start_doc = archiv.find(i)\n",
    "        end_doc = archiv[start_doc:len(archiv)].find('ENDOFARTICLE')+start_doc\n",
    "        doc=archiv[start_doc:end_doc]\n",
    "        \n",
    "        start_title=doc.find('title=')+7\n",
    "        end_title=doc.find('nonfiltered=')-2\n",
    "        title=doc[start_title:end_title]\n",
    "        \n",
    "        start_text=doc.find('\">')+3\n",
    "        end_text=len(doc)\n",
    "        text=doc[start_text:end_text]\n",
    "        \n",
    "        list_text.append([id_original,[title,text]])\n",
    "        \n",
    "    list_text.sort(key=lambda x: x[1])\n",
    "    \n",
    "    for j in range(len(list_text)):\n",
    "        dic_texts[j]=list_text[1]\n",
    "    \n",
    "    return dic_texts"
   ]
  },
  {
   "cell_type": "code",
   "execution_count": 0,
   "metadata": {
    "colab": {},
    "colab_type": "code",
    "id": "Eal8GNox-QYW"
   },
   "outputs": [],
   "source": [
    "def word_id(dictionary):\n",
    "    dict2={}\n",
    "    dict3={}\n",
    "    for Id in dictionary.keys():\n",
    "        texto1 = dictionary[Id][0]+' '+dictionary[Id][1]\n",
    "        texto2 = texto1.split()\n",
    "        texto3 = []\n",
    "        for i in texto2:\n",
    "            texto3.extend(i.split('--'))\n",
    "        texto4 = [x.strip(st.punctuation).lower() for x in texto3]\n",
    "        words = list(set(texto4))\n",
    "        if '' in words:\n",
    "            words.pop(words.index(''))\n",
    "        dict2[Id]=words\n",
    "    \n",
    "        for word in words:\n",
    "            if word in dict3.keys():\n",
    "                dict3[word].append(Id)\n",
    "            else:\n",
    "                dict3[word]=[Id]\n",
    "            \n",
    "    return dict3"
   ]
  },
  {
   "cell_type": "code",
   "execution_count": 1,
   "metadata": {
    "colab": {},
    "colab_type": "code",
    "id": "nfthNlQVD-Bd"
   },
   "outputs": [
    {
     "data": {
      "text/plain": [
       "'kkkkk kkkkjjjj jjj'"
      ]
     },
     "execution_count": 1,
     "metadata": {},
     "output_type": "execute_result"
    }
   ],
   "source": [
    "'kkkkk kkkk'+'jjjj jjj'"
   ]
  },
  {
   "cell_type": "code",
   "execution_count": null,
   "metadata": {},
   "outputs": [],
   "source": []
  }
 ],
 "metadata": {
  "colab": {
   "collapsed_sections": [],
   "name": "versao3.ipynb",
   "provenance": [],
   "version": "0.3.2"
  },
  "kernelspec": {
   "display_name": "Python 3",
   "language": "python",
   "name": "python3"
  },
  "language_info": {
   "codemirror_mode": {
    "name": "ipython",
    "version": 3
   },
   "file_extension": ".py",
   "mimetype": "text/x-python",
   "name": "python",
   "nbconvert_exporter": "python",
   "pygments_lexer": "ipython3",
   "version": "3.7.3"
  }
 },
 "nbformat": 4,
 "nbformat_minor": 1
}
