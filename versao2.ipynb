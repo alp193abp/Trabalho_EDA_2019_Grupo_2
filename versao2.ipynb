{
  "nbformat": 4,
  "nbformat_minor": 0,
  "metadata": {
    "colab": {
      "name": "versao2.ipynb",
      "version": "0.3.2",
      "provenance": [],
      "collapsed_sections": []
    },
    "kernelspec": {
      "name": "python3",
      "display_name": "Python 3"
    }
  },
  "cells": [
    {
      "cell_type": "code",
      "metadata": {
        "id": "qCPpXCw9-EPz",
        "colab_type": "code",
        "colab": {}
      },
      "source": [
        "import string as st\n",
        "import re"
      ],
      "execution_count": 0,
      "outputs": []
    },
    {
      "cell_type": "code",
      "metadata": {
        "id": "nNaZcHSk-LT3",
        "colab_type": "code",
        "colab": {}
      },
      "source": [
        "def id_texts(archiv):\n",
        "    list_id = re.findall('<doc id=\"\\d+\"',archiv)\n",
        "    list_text =[]\n",
        "    dic_texts = {}\n",
        "    for i in list_id:\n",
        "        id_original=i[9:len(i)-1]\n",
        "        \n",
        "        start_doc = archiv.find(i)\n",
        "        end_doc = archiv[start_doc:len(archiv)].find('ENDOFARTICLE')+start_doc\n",
        "        doc=archiv[start_doc:end_doc]\n",
        "        \n",
        "        start_title=doc.find('title=')+7\n",
        "        end_title=doc.find('nonfiltered=')-2\n",
        "        title=doc[start_title:end_title]\n",
        "        \n",
        "        start_text=doc.find('\">')+3\n",
        "        end_text=len(doc)\n",
        "        text=doc[start_text:end_text]\n",
        "        \n",
        "        list_text.append([id_original,[title,text]])\n",
        "        \n",
        "    list_text.sort(key=lambda x: x[1])\n",
        "    \n",
        "    for j in range(len(list_text)):\n",
        "        dic_texts[j+1]=list_text[1]\n",
        "    \n",
        "    return dic_texts"
      ],
      "execution_count": 0,
      "outputs": []
    },
    {
      "cell_type": "code",
      "metadata": {
        "id": "Eal8GNox-QYW",
        "colab_type": "code",
        "colab": {}
      },
      "source": [
        "def word_id(dictionary):\n",
        "    dict2={}\n",
        "    dict3={}\n",
        "    for Id in dictionary.keys():\n",
        "        texto1 = dictionary[Id][1]\n",
        "        texto2 = texto1.split()\n",
        "        texto3 = []\n",
        "        for i in texto2:\n",
        "            texto3.extend(i.split('--'))\n",
        "        texto4 = [x.strip(st.punctuation).lower() for x in texto3]\n",
        "        words = list(set(texto4))\n",
        "        if '' in words:\n",
        "            words.pop(words.index(''))\n",
        "        dict2[Id]=words\n",
        "    \n",
        "        for word in words:\n",
        "            if word in dict3.keys():\n",
        "                dict3[word].append(Id)\n",
        "            else:\n",
        "                dict3[word]=[Id]\n",
        "            \n",
        "    return dict3"
      ],
      "execution_count": 0,
      "outputs": []
    },
    {
      "cell_type": "code",
      "metadata": {
        "id": "nfthNlQVD-Bd",
        "colab_type": "code",
        "colab": {}
      },
      "source": [
        ""
      ],
      "execution_count": 0,
      "outputs": []
    }
  ]
}