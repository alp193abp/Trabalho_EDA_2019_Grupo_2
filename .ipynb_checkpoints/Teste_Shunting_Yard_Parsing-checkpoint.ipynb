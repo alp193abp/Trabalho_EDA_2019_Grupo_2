{
 "cells": [
  {
   "cell_type": "code",
   "execution_count": 25,
   "metadata": {},
   "outputs": [],
   "source": [
    "def parsing(exp):\n",
    "    out_queue=[]\n",
    "    op_stack=[]\n",
    "    while len(exp) > 0:\n",
    "        if exp[0] != \"&\" and exp[0] !=\"|\" and exp[0] !=\"#\" and exp[0] !=\"(\" and exp[0] !=\")\":\n",
    "            out_queue.append(exp[0])\n",
    "            if len(exp)>1:\n",
    "                exp = exp[1:]\n",
    "            else:\n",
    "                exp = []\n",
    "        elif exp[0] == \"&\" or exp[0] ==\"|\" or exp[0] ==\"#\":\n",
    "            if len(op_stack) > 0:\n",
    "                if op_stack[-1] == \"&\" or op_stack[-1] ==\"|\" or op_stack[-1] ==\"#\":\n",
    "                    out_queue.append(op_stack[-1])\n",
    "                    op_stack = op_stack[:-1]\n",
    "            op_stack.append(exp[0])\n",
    "            if len(exp)>1:\n",
    "                exp = exp[1:]\n",
    "            else:\n",
    "                exp = []\n",
    "        elif exp[0] == \"(\":\n",
    "            op_stack.append(exp[0])\n",
    "            if len(exp)>1:\n",
    "                exp = exp[1:]\n",
    "            else:\n",
    "                exp = []\n",
    "        elif exp[0] == \")\":\n",
    "            while op_stack[-1] != \"(\":\n",
    "                out_queue.append(op_stack[-1])\n",
    "                op_stack = op_stack[:-1]\n",
    "            if op_stack[-1] == \"(\":\n",
    "                op_stack = op_stack[:-1]\n",
    "                if len(exp)>1:\n",
    "                    exp = exp[1:]\n",
    "                else:\n",
    "                    exp = []\n",
    "    if len(exp) == 0:\n",
    "        while len(op_stack)>0:\n",
    "            out_queue.append(op_stack[-1])\n",
    "            op_stack = op_stack[:-1]\n",
    "    return out_queue"
   ]
  },
  {
   "cell_type": "code",
   "execution_count": 26,
   "metadata": {},
   "outputs": [],
   "source": [
    "exp = [\"lauder\", \"&\", \"(\", \"leal\", \"|\", \"dos\",\")\", \"#\",\"santos\"]"
   ]
  },
  {
   "cell_type": "code",
   "execution_count": 27,
   "metadata": {},
   "outputs": [],
   "source": [
    "p = parsing(exp)"
   ]
  },
  {
   "cell_type": "code",
   "execution_count": 28,
   "metadata": {},
   "outputs": [
    {
     "name": "stdout",
     "output_type": "stream",
     "text": [
      "['lauder', 'leal', 'dos', '|', '&', 'santos', '#']\n"
     ]
    }
   ],
   "source": [
    "print(p)"
   ]
  },
  {
   "cell_type": "code",
   "execution_count": 29,
   "metadata": {},
   "outputs": [],
   "source": [
    "def operation(p,documents):\n",
    "    for i in range(len(p)):\n",
    "        if p[i] != \"&\" and p[i] !=\"|\" and p[i] !=\"#\":\n",
    "            p[i] = documents[p[i]]\n",
    "    while len(p)>1:\n",
    "        for j in range(len(p)):\n",
    "            if p[j] != \"&\" and p[j] !=\"|\" and p[j] !=\"#\":\n",
    "                j+=1\n",
    "            elif p[j] == \"&\":\n",
    "                p[j] = p[j-2] & p[j-1]\n",
    "                if j>2:\n",
    "                    p=p[0:j-2] + p[j:]\n",
    "                else:\n",
    "                    p = [p[j]]\n",
    "                break\n",
    "            elif p[j] == \"|\":\n",
    "                p[j] = p[j-2] | p[j-1]\n",
    "                if j>2:\n",
    "                    p=p[0:j-2] + p[j:]\n",
    "                else:\n",
    "                    p = [p[j]]\n",
    "                break\n",
    "            elif p[j] == \"#\":\n",
    "                p[j] = p[j-2] - p[j-1]\n",
    "                if j>2:\n",
    "                    p=p[0:j-2] + p[j:]\n",
    "                else:\n",
    "                    p = [p[j]]\n",
    "                break\n",
    "    return p"
   ]
  },
  {
   "cell_type": "code",
   "execution_count": 30,
   "metadata": {},
   "outputs": [],
   "source": [
    "documents={\"lauder\":{1,2,3,4,5}, \"leal\":{2,4,6,8,10}, \"dos\":{2,3,5,7}, \"santos\":{1,4,9} }"
   ]
  },
  {
   "cell_type": "code",
   "execution_count": 31,
   "metadata": {},
   "outputs": [],
   "source": [
    "r = operation(p,documents)"
   ]
  },
  {
   "cell_type": "code",
   "execution_count": 34,
   "metadata": {},
   "outputs": [
    {
     "data": {
      "text/plain": [
       "{2, 3, 4, 5}"
      ]
     },
     "execution_count": 34,
     "metadata": {},
     "output_type": "execute_result"
    }
   ],
   "source": [
    "r[0]"
   ]
  },
  {
   "cell_type": "code",
   "execution_count": null,
   "metadata": {},
   "outputs": [],
   "source": []
  }
 ],
 "metadata": {
  "kernelspec": {
   "display_name": "Python 3",
   "language": "python",
   "name": "python3"
  },
  "language_info": {
   "codemirror_mode": {
    "name": "ipython",
    "version": 3
   },
   "file_extension": ".py",
   "mimetype": "text/x-python",
   "name": "python",
   "nbconvert_exporter": "python",
   "pygments_lexer": "ipython3",
   "version": "3.5.2"
  }
 },
 "nbformat": 4,
 "nbformat_minor": 2
}
