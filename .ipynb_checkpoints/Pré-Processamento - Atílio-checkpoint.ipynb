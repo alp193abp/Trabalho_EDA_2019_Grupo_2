{
 "cells": [
  {
   "cell_type": "markdown",
   "metadata": {},
   "source": [
    "# Atílio - Pré processamento"
   ]
  },
  {
   "cell_type": "code",
   "execution_count": 15,
   "metadata": {},
   "outputs": [
    {
     "ename": "SyntaxError",
     "evalue": "invalid syntax (<ipython-input-15-c29c2ca2b348>, line 15)",
     "output_type": "error",
     "traceback": [
      "\u001b[0;36m  File \u001b[0;32m\"<ipython-input-15-c29c2ca2b348>\"\u001b[0;36m, line \u001b[0;32m15\u001b[0m\n\u001b[0;31m    while \"nonfiltered=\" not in lista[i]\u001b[0m\n\u001b[0m                                        ^\u001b[0m\n\u001b[0;31mSyntaxError\u001b[0m\u001b[0;31m:\u001b[0m invalid syntax\n"
     ]
    }
   ],
   "source": [
    "#Primeira versão do código. Projeto 1: descartado\n",
    "#O codigo nao está pronto. Há pseudocódigos\n",
    "Dicionario1={}\n",
    "Dicionario2={} #Contem como chave id e como valores as palavras que aquele texto possui.\n",
    "while i < len(lista):\n",
    "    id_original=\"\"\n",
    "    titulo=\"\"\n",
    "    if lista[i]==\"doc\" and lista[i+1][0:2]==\"id=\":\n",
    "        for j in range(4,len(lista[i+1])):\n",
    "            id_original+=lista[i+1][j]\n",
    "        i+=2\n",
    "        for t in range(7,len(lista[i])):\n",
    "            titulo+=lista[i][t]\n",
    "        i+=1\n",
    "        while \"nonfiltered=\" not in lista[i]\n",
    "            titulo+=\" \"\n",
    "            for t in range(0,len(lista[i])):\n",
    "                titulo+=lista[i][t]\n",
    "            i+=1\n",
    "        Dicionario1.append([id_original,titulo])\n",
    "        Dicionario2[id_original]=[]\n",
    "        i+=3\n",
    "    elif (lista[i]=\"doc\" and lista[i+1]=\"doc\") or lista[i]==\"ENDOFARTICLE\":\n",
    "        i+=1\n",
    "    else\n",
    "        Dicionario2[id_original]sta[i] como valor de Dicionario2_chave(id_original)\n",
    "        i+=1\n",
    "        \n",
    "        \n",
    "        {989:[\"batata\",\"tomate\"],}"
   ]
  },
  {
   "cell_type": "code",
   "execution_count": 16,
   "metadata": {},
   "outputs": [
    {
     "name": "stdout",
     "output_type": "stream",
     "text": [
      "{'7986334': ['Sungai Besi LRT station', '\\nSungai Besi LRT station is an LRT station in Sungai Besi, a town in the Federal Territory of Kuala Lumpur, Malaysia. This station is served by the Sri Petaling line and was opened in 1996, along with 17 other LRT stations. Its location is .\\n\\nSee also.\\n Ampang Line;\\n Sri Petaling Line;\\n Kelana Jaya Line;\\n KL Monorail;\\n Rawang-Seremban Line;\\n Sentul-Port Klang Line;\\n\\nExternal links.\\n Rapid KL Official Site;\\n Syarikat Prasarana Negara Bhd;\\n\\n\\n\\n\\n\\n\\n\\n\\n\\n\\n'], '214730': ['Henry Hallam', '\\nHenry Hallam (July 9, 1777 - January 21, 1859) was an  English historian.\\n\\nThe only son of John Hallam, canon of Windsor and dean of Bristol, he was educated at Eton and Christ Church, Oxford, graduating in 1799. Called to the bar, he practised for some years on the Oxford circuit; but his tastes were literary, and when, on his father\\'s death in 1812, he inherited a small estate in Lincolnshire, he gave himself up wholly to academic study. He had become connected with the brilliant band of authors and politicians who led the Whig party, a connection to which he owed his appointment to the well-paid and easy post of commissioner of stamps; but took no part in politics himself.  He was, however, an active supporter of many popular movements--particularly of that which ended in the abolition of the slave trade; and he was sincerely attached to the political principles of the Whigs. \\n\\nHallam\\'s earliest literary work was undertaken in connexion with the great organ of the Whig party, the Edinburgh Review, where his review of Scott\\'s Dryden attracted attention. His first great work, The View of the State of Europe during the Middle Ages, was produced in 1818, and was followed nine years later by the Constitutional History of England. In 1838-1839 appeared the Introduction to the Literature of Europe in the 15th, 16th and 17th Centuries.  These are the three works on which Hallam\\'s fame rests. They took a place in English literature which was not seriously challenged until the 20th century. A volume of supplemental notes to his Middle Ages was published in 1848; these facts and dates represent nearly all of Hallam\\'s career. The strongest personal interest in his life was the affliction which befell him in the loss of his children, one after another. His eldest son, Arthur Henry Hallam--the \"A.H.H.\" of Tennyson\\'s In Memoriam, and by the testimony of his contemporaries a man of the most brilliant promise--died in 1833 at the age of twenty-two. Seventeen years later, his second son, Henry Fitzmaurice Hallam, was cut off like his brother at the very threshold of what might have been a great career. The premature death and high talents of these young men, and the association of one of them with the most popular poem of the age, have made Hallam\\'s family afflictions better known than any other incidents of his life. He survived wife, daughter and sons by many years.\\n\\nIn 1834 Hallam published The Remains in Prose and Verse of Arthur Henry Hallam, with a Sketch of his Life. In 1852 a selection of Literary Essays and Characters from the Literature of Europe was published. Hallam was a fellow of the Royal Society, and a trustee of the British Museum, and enjoyed many other appropriate distinctions. In 1830 he received the gold medal for history, founded by George IV.  The Middle Ages is described by Hallam himself as a series of historical dissertations, a comprehensive survey of the chief circumstances that can interest a philosophical inquirer during the period from the 5th to the 15th century. The work consists of nine long chapters, each of which is a complete treatise in itself. The history of France, of Italy, of Spain, of Germany, and of the Greek and Saracenic empires, sketched in rapid and general terms, is the subject of five separate chapters. Others deal with the great institutional features of medieval society--the development of the feudal system, of the ecclesiastical system, and of the free political system of England. The last chapter sketches the general state of society, the growth of commerce, manners, and literature in the Middle Ages. The book may be regarded as a general view of early modern history, preparatory to the more detailed treatment of special lines of inquiry carried out in his subsequent works, although Hallam\\'s original intention was to continue the work on the scale on which it had been begun. \\n\\nThe Constitutional History of England takes up the subject at the point at which it had been dropped in the View of the Middle Ages, viz, the accession of Henry VII, and carries it down to the accession of George III. Hallam stopped here for a characteristic reason, which it is impossible not to respect and to regret. He was unwilling to excite the prejudices of modern politics which seemed to him to run back through the whole period of the reign of George III; nevertheless, he was accused of bias.  The Quarterly Review for 1828 contains an article on the Constitutional History, written by Southey, full of reproach. The work, he says. is the \"production of a decided partisan,\" who \"rakes in the ashes of long-forgotten and a thousand times buried slanders, for the means of heaping obloquy on all who supported the established institutions of the country.\" Hallam\\'s view of constitutional history was that it should contain only so much of the political and general history of the time as bears directly on specific changes in the organization of the state, including judicial as well as ecclesiastical institutions.  It was his cool treatment of such sanctified names as Charles I, Cranmer and Laud that provoked the indignation of Southey, who forgot that the same impartial measure was extended to statesmen on the other side.\\n\\nIf Hallam ever deviated from perfect fairness, it was in the tacit assumption that the 19th century theory of the constitution was the right theory in previous centuries, and that those who departed from it on one side or the other were in the wrong. He did unconsciously antedate the constitution, and it is clear from incidental allusions in his last work that he did not favour the democratic changes he thought to be impending. Hallam, like Macaulay, ultimately referred all political questions to the standard of Whig constitutionalism. But he was scrupulously conscientious in collecting and weighing his materials. In this he was helped by his legal training, and it was this which made the Constitutional History one of the standard text-books of English politics.\\n\\nLike the Constitutional History, the Introduction to the Literature of Europe continues a branch of inquiry which had been opened in the View of the Middle Ages. In the first chapter of the Literature, which is to a great extent supplementary to the last chapter of the Middle Ages, Hallam sketches the state of literature in Europe down to the end of the 14th century: the extinction of ancient learning which followed the fall of the Roman empire and the rise of Christianity; the preservation of the Latin language in the services of the church; and the slow revival of letters, which began to show itself soon after the 7th century--\"the nadir of the human mind\"--had been passed. For the first century and a half of his special period he is mainly occupied with a review of classical learning, and he adopts the plan of taking short decennial periods and noticing the most remarkable works which they produced.  The rapid growth of literature in the 16th century compels him to resort to a classification of subjects: in the period 1520-1550 we have separate chapters on ancient literature, theology, speculative philosophy and jurisprudence, the literature of taste, and scientific and miscellaneous literature; and the subdivisions of subjects is carried further of course in the later periods. Thus poetry, the drama and polite literature form the subjects of separate chapters. One inconvenient result of this arrangement is that the same author is scattered over many chapters, according as his works fall within this category or that period of time. Names like Shakespeare, Grotius, Francis Bacon and Thomas Hobbes appear in half a dozen different places. The individuality of great authors is thus dissipated except when it has been preserved by an occasional sacrifice of the arrangement--and this defect, if it is to be esteemed a defect, is increased by the very sparing references to personal history and character with which Hallam was obliged to content himself.\\n\\nHis plan excluded biographical history, nor is the work, he tells us, to be regarded as one of reference. It is rigidly an account of the books which would make a complete library of the period, arranged according to the date of their publication and the nature of their subjects. The history of institutions like universities and academies, and that of great popular movements like the Reformation, are of course noticed in their immediate connection with literary results; but Hallam had little taste for the spacious generalization which such subjects suggest. The great qualities displayed in this work have been universally acknowledged--conscientiousness, accuracy, judgment and enormous reading. Not the least styiking testimony to Hallam\\'s powers is his mastery over so many diverse forms of intellectual activity. In science and theology, mathematics and poetry, metaphysics and law, he is a competent and always a fair if not a profound critic. The bent of his own mind is manifest in his treatment of pure literature and of political speculation--which seems to be inspired with stronger personal interest and a higher sense of power than other parts of his work display. Not less worthy of notice in a literary history is the good sense by which both his learning and his tastes have been held in control. Probably no writer ever possessed a juster view of the relative importance of men and things. The labour devoted to an investigation is with Hallam no excuse for dwelling on the result, unless that is in itself important. He turns away contemptuously from the mere curiosities of literature, and is never tempted to make a display of trivial erudition. Nor do we find that his interest in special studies leads him to assign them a disproportionate place in his general view of the literature of a period.\\n\\nHallam is generally described as a \"philosophical historian.\" The description is justified not so much by any philosophical quality in his method as by the nature of his subject and his own temper. Hallam is a philosopher to this extent that both in political and in literary history he fixed his attention on results rather than on persons. His conception of history embraced the whole movement of society. Beside that conception the issue of battles and the fate of kings fall into comparative insignificance. \"We can trace the pedigree of princes,\" he reflects, \"fill up the catalogue of towns besieged and provinces desolated, describe even the whole pageantry of coronations and festivals, but we cannot recover the genuine history of mankind.\" But, on the other hand, there is no trace in Hallam of anything like a philosophy of history or society.\\n\\nWise and generally melancholy reflections on human nature and political society are not infrequent in his writings, and they arise naturally and incidentally out of the subject he is discussing. His object is the attainment of truth in matters of fact. Sweeping theories of the movement of society, and broad characterizations of particular periods of history seem to have no attraction for him.  The view of mankind on which such generalizations are usually based, taking little account of individual character, was distasteful to him. Thus he objects to the use of statistics because they favour the tendency to regard all men as mentally and morally equal. At the same time Hallam by no means assumes the tone of the mere scholar. He is solicitous to show that his point of view is that of the cultivated gentleman and not of the specialist. Thus he tells us that Montaigne is the first French author whom an English gentleman is ashamed not to have read. In fact, allusions to the necessary studies of a gentleman meet us constantly, reminding us of the unlikely erudition of the schoolboy in Macaulay. Hallam\\'s prejudices, so far as he had any, belong to the same character. His criticism assumes a tone of moral censure when he has to deal with certain extremes of human thought--scepticism in philosophy, atheism in religion and democracy in politics.\\n\\nMacaulay\\'s essay in review of the Constitutional History is available at: http://www.history1700s.com/etexts/html/texts/1cahe10.txt\\n\\nReferences.\\n;\\n\\n\\n\\n\\n\\n'], '2843783': ['3 Flies Up', '\\n3 Flies Up is a simple variant of American football that is popular in schoolyards, and typically involves one \\'flier\\' who throws the football to a group of catchers, each individually attempting to best each other and catch \\'flies\\' (passes that have not hit the ground) out of the air for points. \\n\\nOnce a single catcher catches three \\'flies\\' (they do not usually need to be consecutive), he or she becomes the new flier, and a new game is played, in which the prior flier joins the rest of the catchers. This can go on for a long time, making 3 Flies Up a perpetual game that can be played indefinitely. In some versions, players make it \"interesting\" by playing until a specific moment or time, in which the current flier at the time is named champion.\\n\\nVariations.\\nAnother popular version of the game (different regions and schools play different ways) is called \"500\", and consists of the same basic principles, but with a different scoring system; The passer randomly calls out a number between 1 and 500 as he or she throws the ball to the cluster of catchers. If successfully received by a catcher, the designated amount of points is awarded, and a winner is declared once a score of \\'500\\' is reached. Many school teachers prefer this method, because it can require some basic arithmetic skills, which can be practiced through the physical activity.\\n\\n\\n'], '5826739': ['1808 in poetry', '\\n\\nEvents.\\n\\n\\nPoetry published.\\n Johann Wolfgang von Goethe, Faust, part I;\\n Sir Walter Scott, Marmion ;\\nBirths.\\n February 5: Carl Spitzweg;\\n May 22: Gérard de Nerval ;\\n June 17: Henrik Wergeland ;\\nDeaths.\\nSeptember 5: John Home\\nMelchiore Cesarotti \\n\\nSee also.\\n\\nPoetry;\\nList of years in poetry;\\nList of poets;\\n\\n\\n\\n\\n'], '9139633': ['Sterling College (Vermont)', \"\\n\\n\\nSterling College is a work college in Craftsbury Common, Vermont known as the smallest accredited four-year college in the country. The school is accredited by the New England Association of Schools and Colleges. Sterling is one of only two colleges in the United States to offer a degree in circumpolar studies.\\n\\nHistory.\\nSterling School was founded in 1958 as a boys' college preparatory school by former Berkshire School faculty member Norman Rioux. The school's educational philosophy was influenced by that of Outward Bound founder Kurt Hahn. The school transition to higher education during the 1970s began with the Academic Short Course in Outdoor Leadership, a 21-day program for 13 to 16 year olds. \\n\\nFaced with closure in 1974, a group of faculty chose to remain and established an academic year-long program similar to Outward Bound programs known as Grassroots Project in Vermont at Sterling Institute. By 1983, Sterling had developed into an accredited college offering an Associate of Arts degree in resource management with full accreditation by the New England Association of Schools and Colleges granted in 1987. \\n\\nSince 1997, Sterling College has been accredited as a four-year college and has awarded a Bachelor of Arts degree with concentrations in wildlands ecology and management, outdoor education and leadership, and sustainable agriculture. The four-year program builds on the Grassroots Year and second-year internship program from the  two-year program with a junior year in which many students engage in field studies abroad and a comprehensive Senior Applied Research Project. Sterling College joined the Work Colleges Consortium in 1999 and the Center for Northern Studies, which had been operating in neighboring Wolcott since 1971, merged with Sterling College in 2003.\\n\\nCampus.\\nThe primary campus is 130 acres (526,091 m²). It has 14 buildings including a woodworking shop and a library. Outdoor teaching facilities include a managed woodlot, a challenge course, a 30-foot climbing tower, organic gardens, and a working livestock farm with two solar/wind powered barns. Much of what is grown and raised is consumed in the dining hall. The Center for Northern Studies at Sterling College is comprised of a 300 acre (1,214,057 m²) boreal wetland and a building containing a library, classroom space, offices and a lounge.\\n\\nReferences.\\n\\n\\nExternal links.\\nSterling College;\\nWork College Consortium;\\nMelissa Kirkby, student at Sterling College five-part commentary series at Grist;\\n\\n\\n\\n\\n\\n\\n\\n\"]}\n",
      "5\n"
     ]
    }
   ],
   "source": [
    "# Primeira parte\n",
    "arquivo=Text\n",
    "Dicionario1={} #Chave id_original; Values: Lista com Título, Texto\n",
    "i=0\n",
    "while i < len(arquivo):\n",
    "    id_original=\"\"\n",
    "    texto=\"\"\n",
    "    titulo=\"\"\n",
    "    if arquivo[i:i+8]==\"<doc id=\":\n",
    "        i+=9\n",
    "        while arquivo[i] in [\"0\",\"1\",\"2\",\"3\",\"4\",\"5\",\"6\",\"7\",\"8\",\"9\"]:\n",
    "            id_original+=arquivo[i]\n",
    "            i+=1\n",
    "        i+=9\n",
    "        k=i\n",
    "        while arquivo[k:k+13]!=\" nonfiltered=\":\n",
    "            k+=1\n",
    "        titulo+=arquivo[i:k-2+1]\n",
    "        while arquivo[i:i+7+1]!=\"dbindex=\":\n",
    "            i+=1\n",
    "        i+=7\n",
    "        while arquivo[i]!=\">\":\n",
    "            i+=1\n",
    "        i+=1\n",
    "        while arquivo[i:i+12+1]!=\"ENDOFARTICLE.\":\n",
    "            texto+=arquivo[i]\n",
    "            i+=1\n",
    "        Dicionario1[id_original]=[titulo,texto]\n",
    "    else:\n",
    "        i+=1\n",
    "print(Dicionario1)\n",
    "print(len(Dicionario1))"
   ]
  },
  {
   "cell_type": "code",
   "execution_count": 10,
   "metadata": {},
   "outputs": [],
   "source": [
    "Text=\"\"\"<doc id=\"214730\" title=\"Henry Hallam\" nonfiltered=\"1\" processed=\"1\" dbindex=\"0\">\n",
    "Henry Hallam (July 9, 1777 - January 21, 1859) was an  English historian.\n",
    "\n",
    "The only son of John Hallam, canon of Windsor and dean of Bristol, he was educated at Eton and Christ Church, Oxford, graduating in 1799. Called to the bar, he practised for some years on the Oxford circuit; but his tastes were literary, and when, on his father's death in 1812, he inherited a small estate in Lincolnshire, he gave himself up wholly to academic study. He had become connected with the brilliant band of authors and politicians who led the Whig party, a connection to which he owed his appointment to the well-paid and easy post of commissioner of stamps; but took no part in politics himself.  He was, however, an active supporter of many popular movements--particularly of that which ended in the abolition of the slave trade; and he was sincerely attached to the political principles of the Whigs. \n",
    "\n",
    "Hallam's earliest literary work was undertaken in connexion with the great organ of the Whig party, the Edinburgh Review, where his review of Scott's Dryden attracted attention. His first great work, The View of the State of Europe during the Middle Ages, was produced in 1818, and was followed nine years later by the Constitutional History of England. In 1838-1839 appeared the Introduction to the Literature of Europe in the 15th, 16th and 17th Centuries.  These are the three works on which Hallam's fame rests. They took a place in English literature which was not seriously challenged until the 20th century. A volume of supplemental notes to his Middle Ages was published in 1848; these facts and dates represent nearly all of Hallam's career. The strongest personal interest in his life was the affliction which befell him in the loss of his children, one after another. His eldest son, Arthur Henry Hallam--the \"A.H.H.\" of Tennyson's In Memoriam, and by the testimony of his contemporaries a man of the most brilliant promise--died in 1833 at the age of twenty-two. Seventeen years later, his second son, Henry Fitzmaurice Hallam, was cut off like his brother at the very threshold of what might have been a great career. The premature death and high talents of these young men, and the association of one of them with the most popular poem of the age, have made Hallam's family afflictions better known than any other incidents of his life. He survived wife, daughter and sons by many years.\n",
    "\n",
    "In 1834 Hallam published The Remains in Prose and Verse of Arthur Henry Hallam, with a Sketch of his Life. In 1852 a selection of Literary Essays and Characters from the Literature of Europe was published. Hallam was a fellow of the Royal Society, and a trustee of the British Museum, and enjoyed many other appropriate distinctions. In 1830 he received the gold medal for history, founded by George IV.  The Middle Ages is described by Hallam himself as a series of historical dissertations, a comprehensive survey of the chief circumstances that can interest a philosophical inquirer during the period from the 5th to the 15th century. The work consists of nine long chapters, each of which is a complete treatise in itself. The history of France, of Italy, of Spain, of Germany, and of the Greek and Saracenic empires, sketched in rapid and general terms, is the subject of five separate chapters. Others deal with the great institutional features of medieval society--the development of the feudal system, of the ecclesiastical system, and of the free political system of England. The last chapter sketches the general state of society, the growth of commerce, manners, and literature in the Middle Ages. The book may be regarded as a general view of early modern history, preparatory to the more detailed treatment of special lines of inquiry carried out in his subsequent works, although Hallam's original intention was to continue the work on the scale on which it had been begun. \n",
    "\n",
    "The Constitutional History of England takes up the subject at the point at which it had been dropped in the View of the Middle Ages, viz, the accession of Henry VII, and carries it down to the accession of George III. Hallam stopped here for a characteristic reason, which it is impossible not to respect and to regret. He was unwilling to excite the prejudices of modern politics which seemed to him to run back through the whole period of the reign of George III; nevertheless, he was accused of bias.  The Quarterly Review for 1828 contains an article on the Constitutional History, written by Southey, full of reproach. The work, he says. is the \"production of a decided partisan,\" who \"rakes in the ashes of long-forgotten and a thousand times buried slanders, for the means of heaping obloquy on all who supported the established institutions of the country.\" Hallam's view of constitutional history was that it should contain only so much of the political and general history of the time as bears directly on specific changes in the organization of the state, including judicial as well as ecclesiastical institutions.  It was his cool treatment of such sanctified names as Charles I, Cranmer and Laud that provoked the indignation of Southey, who forgot that the same impartial measure was extended to statesmen on the other side.\n",
    "\n",
    "If Hallam ever deviated from perfect fairness, it was in the tacit assumption that the 19th century theory of the constitution was the right theory in previous centuries, and that those who departed from it on one side or the other were in the wrong. He did unconsciously antedate the constitution, and it is clear from incidental allusions in his last work that he did not favour the democratic changes he thought to be impending. Hallam, like Macaulay, ultimately referred all political questions to the standard of Whig constitutionalism. But he was scrupulously conscientious in collecting and weighing his materials. In this he was helped by his legal training, and it was this which made the Constitutional History one of the standard text-books of English politics.\n",
    "\n",
    "Like the Constitutional History, the Introduction to the Literature of Europe continues a branch of inquiry which had been opened in the View of the Middle Ages. In the first chapter of the Literature, which is to a great extent supplementary to the last chapter of the Middle Ages, Hallam sketches the state of literature in Europe down to the end of the 14th century: the extinction of ancient learning which followed the fall of the Roman empire and the rise of Christianity; the preservation of the Latin language in the services of the church; and the slow revival of letters, which began to show itself soon after the 7th century--\"the nadir of the human mind\"--had been passed. For the first century and a half of his special period he is mainly occupied with a review of classical learning, and he adopts the plan of taking short decennial periods and noticing the most remarkable works which they produced.  The rapid growth of literature in the 16th century compels him to resort to a classification of subjects: in the period 1520-1550 we have separate chapters on ancient literature, theology, speculative philosophy and jurisprudence, the literature of taste, and scientific and miscellaneous literature; and the subdivisions of subjects is carried further of course in the later periods. Thus poetry, the drama and polite literature form the subjects of separate chapters. One inconvenient result of this arrangement is that the same author is scattered over many chapters, according as his works fall within this category or that period of time. Names like Shakespeare, Grotius, Francis Bacon and Thomas Hobbes appear in half a dozen different places. The individuality of great authors is thus dissipated except when it has been preserved by an occasional sacrifice of the arrangement--and this defect, if it is to be esteemed a defect, is increased by the very sparing references to personal history and character with which Hallam was obliged to content himself.\n",
    "\n",
    "His plan excluded biographical history, nor is the work, he tells us, to be regarded as one of reference. It is rigidly an account of the books which would make a complete library of the period, arranged according to the date of their publication and the nature of their subjects. The history of institutions like universities and academies, and that of great popular movements like the Reformation, are of course noticed in their immediate connection with literary results; but Hallam had little taste for the spacious generalization which such subjects suggest. The great qualities displayed in this work have been universally acknowledged--conscientiousness, accuracy, judgment and enormous reading. Not the least styiking testimony to Hallam's powers is his mastery over so many diverse forms of intellectual activity. In science and theology, mathematics and poetry, metaphysics and law, he is a competent and always a fair if not a profound critic. The bent of his own mind is manifest in his treatment of pure literature and of political speculation--which seems to be inspired with stronger personal interest and a higher sense of power than other parts of his work display. Not less worthy of notice in a literary history is the good sense by which both his learning and his tastes have been held in control. Probably no writer ever possessed a juster view of the relative importance of men and things. The labour devoted to an investigation is with Hallam no excuse for dwelling on the result, unless that is in itself important. He turns away contemptuously from the mere curiosities of literature, and is never tempted to make a display of trivial erudition. Nor do we find that his interest in special studies leads him to assign them a disproportionate place in his general view of the literature of a period.\n",
    "\n",
    "Hallam is generally described as a \"philosophical historian.\" The description is justified not so much by any philosophical quality in his method as by the nature of his subject and his own temper. Hallam is a philosopher to this extent that both in political and in literary history he fixed his attention on results rather than on persons. His conception of history embraced the whole movement of society. Beside that conception the issue of battles and the fate of kings fall into comparative insignificance. \"We can trace the pedigree of princes,\" he reflects, \"fill up the catalogue of towns besieged and provinces desolated, describe even the whole pageantry of coronations and festivals, but we cannot recover the genuine history of mankind.\" But, on the other hand, there is no trace in Hallam of anything like a philosophy of history or society.\n",
    "\n",
    "Wise and generally melancholy reflections on human nature and political society are not infrequent in his writings, and they arise naturally and incidentally out of the subject he is discussing. His object is the attainment of truth in matters of fact. Sweeping theories of the movement of society, and broad characterizations of particular periods of history seem to have no attraction for him.  The view of mankind on which such generalizations are usually based, taking little account of individual character, was distasteful to him. Thus he objects to the use of statistics because they favour the tendency to regard all men as mentally and morally equal. At the same time Hallam by no means assumes the tone of the mere scholar. He is solicitous to show that his point of view is that of the cultivated gentleman and not of the specialist. Thus he tells us that Montaigne is the first French author whom an English gentleman is ashamed not to have read. In fact, allusions to the necessary studies of a gentleman meet us constantly, reminding us of the unlikely erudition of the schoolboy in Macaulay. Hallam's prejudices, so far as he had any, belong to the same character. His criticism assumes a tone of moral censure when he has to deal with certain extremes of human thought--scepticism in philosophy, atheism in religion and democracy in politics.\n",
    "\n",
    "Macaulay's essay in review of the Constitutional History is available at: http://www.history1700s.com/etexts/html/texts/1cahe10.txt\n",
    "\n",
    "References.\n",
    ";\n",
    "\n",
    "\n",
    "\n",
    "\n",
    "\n",
    "ENDOFARTICLE.\n",
    "</doc>\n",
    "<doc id=\"7986334\" title=\"Sungai Besi LRT station\" nonfiltered=\"2\" processed=\"2\" dbindex=\"1\">\n",
    "Sungai Besi LRT station is an LRT station in Sungai Besi, a town in the Federal Territory of Kuala Lumpur, Malaysia. This station is served by the Sri Petaling line and was opened in 1996, along with 17 other LRT stations. Its location is .\n",
    "\n",
    "See also.\n",
    " Ampang Line;\n",
    " Sri Petaling Line;\n",
    " Kelana Jaya Line;\n",
    " KL Monorail;\n",
    " Rawang-Seremban Line;\n",
    " Sentul-Port Klang Line;\n",
    "\n",
    "External links.\n",
    " Rapid KL Official Site;\n",
    " Syarikat Prasarana Negara Bhd;\n",
    "\n",
    "\n",
    "\n",
    "\n",
    "\n",
    "\n",
    "\n",
    "\n",
    "\n",
    "\n",
    "ENDOFARTICLE.\n",
    "</doc>\n",
    "<doc id=\"5826739\" title=\"1808 in poetry\" nonfiltered=\"3\" processed=\"3\" dbindex=\"2\">\n",
    "\n",
    "Events.\n",
    "\n",
    "\n",
    "Poetry published.\n",
    " Johann Wolfgang von Goethe, Faust, part I;\n",
    " Sir Walter Scott, Marmion ;\n",
    "Births.\n",
    " February 5: Carl Spitzweg;\n",
    " May 22: Gérard de Nerval ;\n",
    " June 17: Henrik Wergeland ;\n",
    "Deaths.\n",
    "September 5: John Home\n",
    "Melchiore Cesarotti \n",
    "\n",
    "See also.\n",
    "\n",
    "Poetry;\n",
    "List of years in poetry;\n",
    "List of poets;\n",
    "\n",
    "\n",
    "\n",
    "\n",
    "ENDOFARTICLE.\n",
    "</doc>\n",
    "<doc id=\"2843783\" title=\"3 Flies Up\" nonfiltered=\"4\" processed=\"4\" dbindex=\"3\">\n",
    "3 Flies Up is a simple variant of American football that is popular in schoolyards, and typically involves one 'flier' who throws the football to a group of catchers, each individually attempting to best each other and catch 'flies' (passes that have not hit the ground) out of the air for points. \n",
    "\n",
    "Once a single catcher catches three 'flies' (they do not usually need to be consecutive), he or she becomes the new flier, and a new game is played, in which the prior flier joins the rest of the catchers. This can go on for a long time, making 3 Flies Up a perpetual game that can be played indefinitely. In some versions, players make it \"interesting\" by playing until a specific moment or time, in which the current flier at the time is named champion.\n",
    "\n",
    "Variations.\n",
    "Another popular version of the game (different regions and schools play different ways) is called \"500\", and consists of the same basic principles, but with a different scoring system; The passer randomly calls out a number between 1 and 500 as he or she throws the ball to the cluster of catchers. If successfully received by a catcher, the designated amount of points is awarded, and a winner is declared once a score of '500' is reached. Many school teachers prefer this method, because it can require some basic arithmetic skills, which can be practiced through the physical activity.\n",
    "\n",
    "\n",
    "ENDOFARTICLE.\n",
    "</doc>\n",
    "<doc id=\"9139633\" title=\"Sterling College (Vermont)\" nonfiltered=\"5\" processed=\"5\" dbindex=\"4\">\n",
    "\n",
    "\n",
    "Sterling College is a work college in Craftsbury Common, Vermont known as the smallest accredited four-year college in the country. The school is accredited by the New England Association of Schools and Colleges. Sterling is one of only two colleges in the United States to offer a degree in circumpolar studies.\n",
    "\n",
    "History.\n",
    "Sterling School was founded in 1958 as a boys' college preparatory school by former Berkshire School faculty member Norman Rioux. The school's educational philosophy was influenced by that of Outward Bound founder Kurt Hahn. The school transition to higher education during the 1970s began with the Academic Short Course in Outdoor Leadership, a 21-day program for 13 to 16 year olds. \n",
    "\n",
    "Faced with closure in 1974, a group of faculty chose to remain and established an academic year-long program similar to Outward Bound programs known as Grassroots Project in Vermont at Sterling Institute. By 1983, Sterling had developed into an accredited college offering an Associate of Arts degree in resource management with full accreditation by the New England Association of Schools and Colleges granted in 1987. \n",
    "\n",
    "Since 1997, Sterling College has been accredited as a four-year college and has awarded a Bachelor of Arts degree with concentrations in wildlands ecology and management, outdoor education and leadership, and sustainable agriculture. The four-year program builds on the Grassroots Year and second-year internship program from the  two-year program with a junior year in which many students engage in field studies abroad and a comprehensive Senior Applied Research Project. Sterling College joined the Work Colleges Consortium in 1999 and the Center for Northern Studies, which had been operating in neighboring Wolcott since 1971, merged with Sterling College in 2003.\n",
    "\n",
    "Campus.\n",
    "The primary campus is 130 acres (526,091 m²). It has 14 buildings including a woodworking shop and a library. Outdoor teaching facilities include a managed woodlot, a challenge course, a 30-foot climbing tower, organic gardens, and a working livestock farm with two solar/wind powered barns. Much of what is grown and raised is consumed in the dining hall. The Center for Northern Studies at Sterling College is comprised of a 300 acre (1,214,057 m²) boreal wetland and a building containing a library, classroom space, offices and a lounge.\n",
    "\n",
    "References.\n",
    "\n",
    "\n",
    "External links.\n",
    "Sterling College;\n",
    "Work College Consortium;\n",
    "Melissa Kirkby, student at Sterling College five-part commentary series at Grist;\n",
    "\n",
    "\n",
    "\n",
    "\n",
    "\n",
    "\n",
    "\n",
    "ENDOFARTICLE.\n",
    "</doc>\"\"\""
   ]
  },
  {
   "cell_type": "markdown",
   "metadata": {},
   "source": [
    "Rascunhos"
   ]
  },
  {
   "cell_type": "code",
   "execution_count": 57,
   "metadata": {},
   "outputs": [
    {
     "data": {
      "text/plain": [
       "' nonfiltered='"
      ]
     },
     "execution_count": 57,
     "metadata": {},
     "output_type": "execute_result"
    }
   ],
   "source": [
    "arquivo=\" nonfiltered=\"\n",
    "arquivo[0:13]"
   ]
  },
  {
   "cell_type": "code",
   "execution_count": 82,
   "metadata": {},
   "outputs": [
    {
     "data": {
      "text/plain": [
       "{'retirada': 111, 'troia': 111}"
      ]
     },
     "execution_count": 82,
     "metadata": {},
     "output_type": "execute_result"
    }
   ],
   "source": [
    "arquivo={\"retirada\":111,\"troia\":111}\n",
    "arquivo"
   ]
  },
  {
   "cell_type": "code",
   "execution_count": null,
   "metadata": {},
   "outputs": [],
   "source": [
    "inicio = s4.find('string')\n",
    "fim = s4.find('simples')+len('simples')\n",
    "s4[inicio:fim]#delimitar até onde quero pegar o texto\n",
    "\n",
    "arquivo=Text\n",
    "Dicionario1={} #Chave id_original; Values: Lista com Título, Texto\n",
    "i=0\n",
    "while i < len(arquivo):\n",
    "    id_original=\"\"\n",
    "    texto=\"\"\n",
    "    titulo=\"\"\n",
    "    if arquivo[i:i+8]==\"<doc id=\":\n",
    "        i+=8\n",
    "        while arquivo[i] in [\"0\",\"1\",\"2\",\"3\",\"4\",\"5\",\"6\",\"7\",\"8\",\"9\"]:\n",
    "            id_original+=arquivo[i]\n",
    "            i+=1\n",
    "        i+=8\n",
    "        k=i\n",
    "        while arquivo[k:k+11+1]!=\" nonfiltered=\":\n",
    "            k+=1\n",
    "        titulo+=arquivo[i:k-2+1]\n",
    "        while arquivo[i:i+7+1]!=\"dbindex=\":\n",
    "            i+=1\n",
    "        i+=7\n",
    "        while arquivo[i]!=\">\":\n",
    "            i+=1\n",
    "        i+=1\n",
    "        while arquivo[i:i+12+1]!=\"ENDOFARTICLE.\":\n",
    "            texto+=arquivo[i]\n",
    "            i+=1\n",
    "        Dicionario1[id_original]=[titulo,texto]\n",
    "    else:\n",
    "        i+=1\n",
    "print(Dicionario1)"
   ]
  },
  {
   "cell_type": "code",
   "execution_count": 6,
   "metadata": {},
   "outputs": [
    {
     "data": {
      "text/plain": [
       "True"
      ]
     },
     "execution_count": 6,
     "metadata": {},
     "output_type": "execute_result"
    }
   ],
   "source": [
    "'non' in 'nonasjdkajsdk'\n"
   ]
  },
  {
   "cell_type": "code",
   "execution_count": 4,
   "metadata": {},
   "outputs": [
    {
     "data": {
      "text/plain": [
       "'id'"
      ]
     },
     "execution_count": 4,
     "metadata": {},
     "output_type": "execute_result"
    }
   ],
   "source": [
    "a='id'\n",
    "a[0:2]"
   ]
  },
  {
   "cell_type": "code",
   "execution_count": 9,
   "metadata": {},
   "outputs": [
    {
     "data": {
      "text/plain": [
       "{'aranha': [33, 44], 'rato': [44, 77]}"
      ]
     },
     "execution_count": 9,
     "metadata": {},
     "output_type": "execute_result"
    }
   ],
   "source": [
    "a={}\n",
    "a[\"rato\"]=[44,77]\n",
    "a\n",
    "a[\"aranha\"]=[33,44]\n",
    "a"
   ]
  }
 ],
 "metadata": {
  "kernelspec": {
   "display_name": "Python 3",
   "language": "python",
   "name": "python3"
  },
  "language_info": {
   "codemirror_mode": {
    "name": "ipython",
    "version": 3
   },
   "file_extension": ".py",
   "mimetype": "text/x-python",
   "name": "python",
   "nbconvert_exporter": "python",
   "pygments_lexer": "ipython3",
   "version": "3.5.2"
  }
 },
 "nbformat": 4,
 "nbformat_minor": 2
}
