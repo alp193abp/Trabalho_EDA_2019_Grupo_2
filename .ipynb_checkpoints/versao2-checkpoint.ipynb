{
 "cells": [
  {
   "cell_type": "code",
   "execution_count": 23,
   "metadata": {
    "colab": {},
    "colab_type": "code",
    "id": "qCPpXCw9-EPz"
   },
   "outputs": [],
   "source": [
    "import string as st\n",
    "import re\n",
    "import time"
   ]
  },
  {
   "cell_type": "code",
   "execution_count": 4,
   "metadata": {
    "colab": {},
    "colab_type": "code",
    "id": "nNaZcHSk-LT3"
   },
   "outputs": [],
   "source": [
    "def id_texts(archiv):\n",
    "    list_id = re.findall('<doc id=\"\\d+\"',archiv)\n",
    "    list_text =[]\n",
    "    dic_texts = {}\n",
    "    for i in list_id:\n",
    "        id_original=i[9:len(i)-1]\n",
    "        \n",
    "        start_doc = archiv.find(i)\n",
    "        end_doc = archiv[start_doc:len(archiv)].find('ENDOFARTICLE')+start_doc\n",
    "        doc=archiv[start_doc:end_doc]\n",
    "        \n",
    "        start_title=doc.find('title=')+7\n",
    "        end_title=doc.find('nonfiltered=')-2\n",
    "        title=doc[start_title:end_title]\n",
    "        \n",
    "        start_text=doc.find('\">')+3\n",
    "        end_text=len(doc)\n",
    "        text=doc[start_text:end_text]\n",
    "        \n",
    "        list_text.append([id_original,[title,text]])\n",
    "        \n",
    "    list_text.sort(key=lambda x: x[1])\n",
    "    \n",
    "    for j in range(len(list_text)):\n",
    "        dic_texts[j+1]=list_text[1]\n",
    "    \n",
    "    return dic_texts"
   ]
  },
  {
   "cell_type": "code",
   "execution_count": 5,
   "metadata": {
    "colab": {},
    "colab_type": "code",
    "id": "Eal8GNox-QYW"
   },
   "outputs": [],
   "source": [
    "def word_id(dictionary):\n",
    "    dict2={}\n",
    "    dict3={}\n",
    "    for Id in dictionary.keys():\n",
    "        texto1 = dictionary[Id][1]\n",
    "        texto2 = texto1.split()\n",
    "        texto3 = []\n",
    "        for i in texto2:\n",
    "            texto3.extend(i.split('--'))\n",
    "        texto4 = [x.strip(st.punctuation).lower() for x in texto3]\n",
    "        words = list(set(texto4))\n",
    "        if '' in words:\n",
    "            words.pop(words.index(''))\n",
    "        dict2[Id]=words\n",
    "    \n",
    "        for word in words:\n",
    "            if word in dict3.keys():\n",
    "                dict3[word].append(Id)\n",
    "            else:\n",
    "                dict3[word]=[Id]\n",
    "            \n",
    "    return dict3"
   ]
  },
  {
   "cell_type": "code",
   "execution_count": 3,
   "metadata": {
    "colab": {},
    "colab_type": "code",
    "id": "nfthNlQVD-Bd"
   },
   "outputs": [],
   "source": [
    "L=[['1','skdj0','2333'],['2','1kjsd','k32j']]\n",
    "d={x[0]:[x[1],x[2]] for x in L}"
   ]
  },
  {
   "cell_type": "code",
   "execution_count": 4,
   "metadata": {},
   "outputs": [
    {
     "data": {
      "text/plain": [
       "{'1': ['skdj0', '2333'], '2': ['1kjsd', 'k32j']}"
      ]
     },
     "execution_count": 4,
     "metadata": {},
     "output_type": "execute_result"
    }
   ],
   "source": [
    "d"
   ]
  },
  {
   "cell_type": "code",
   "execution_count": 12,
   "metadata": {},
   "outputs": [],
   "source": [
    "lista=[['','kj'],['23440','244'],['2',''],['m2332','1']]"
   ]
  },
  {
   "cell_type": "code",
   "execution_count": 16,
   "metadata": {},
   "outputs": [
    {
     "ename": "TypeError",
     "evalue": "<lambda>() missing 1 required positional argument: 'y'",
     "output_type": "error",
     "traceback": [
      "\u001b[1;31m---------------------------------------------------------------------------\u001b[0m",
      "\u001b[1;31mTypeError\u001b[0m                                 Traceback (most recent call last)",
      "\u001b[1;32m<ipython-input-16-db33c2746f3c>\u001b[0m in \u001b[0;36m<module>\u001b[1;34m\u001b[0m\n\u001b[1;32m----> 1\u001b[1;33m \u001b[0mlist\u001b[0m\u001b[1;33m(\u001b[0m\u001b[0mfilter\u001b[0m\u001b[1;33m(\u001b[0m\u001b[1;32mlambda\u001b[0m \u001b[0mx\u001b[0m\u001b[1;33m,\u001b[0m\u001b[0my\u001b[0m\u001b[1;33m:\u001b[0m \u001b[0mx\u001b[0m\u001b[1;33m!=\u001b[0m\u001b[1;34m''\u001b[0m \u001b[1;32mand\u001b[0m \u001b[0my\u001b[0m\u001b[1;33m!=\u001b[0m\u001b[1;34m''\u001b[0m\u001b[1;33m,\u001b[0m\u001b[0mlista\u001b[0m\u001b[1;33m)\u001b[0m\u001b[1;33m)\u001b[0m\u001b[1;33m\u001b[0m\u001b[1;33m\u001b[0m\u001b[0m\n\u001b[0m",
      "\u001b[1;31mTypeError\u001b[0m: <lambda>() missing 1 required positional argument: 'y'"
     ]
    }
   ],
   "source": [
    "list(filter(lambda x,y: x!='' and y!='',lista))"
   ]
  },
  {
   "cell_type": "code",
   "execution_count": 24,
   "metadata": {},
   "outputs": [
    {
     "data": {
      "text/plain": [
       "0.0010001659393310547"
      ]
     },
     "execution_count": 24,
     "metadata": {},
     "output_type": "execute_result"
    }
   ],
   "source": [
    "t0=time.time()\n",
    "k={'1':'r','3':'g','2':'h'}\n",
    "k.update({1:'j'})\n",
    "t=time.time()-t0\n",
    "t"
   ]
  },
  {
   "cell_type": "code",
   "execution_count": 28,
   "metadata": {
    "scrolled": true
   },
   "outputs": [
    {
     "data": {
      "text/plain": [
       "{'1': 'rj', '3': 'g', '2': 'h'}"
      ]
     },
     "execution_count": 28,
     "metadata": {},
     "output_type": "execute_result"
    }
   ],
   "source": [
    "t0=time.time()\n",
    "k={'1':'r','3':'g','2':'h'}\n",
    "k['1']+='j'\n",
    "t=time.time()-t0\n",
    "k"
   ]
  },
  {
   "cell_type": "code",
   "execution_count": 41,
   "metadata": {},
   "outputs": [],
   "source": [
    "dic={}"
   ]
  },
  {
   "cell_type": "code",
   "execution_count": 46,
   "metadata": {},
   "outputs": [
    {
     "name": "stdout",
     "output_type": "stream",
     "text": [
      "oi\n",
      "oi\n",
      "oi\n"
     ]
    }
   ],
   "source": [
    "id=111\n",
    "for i in ['a','b','c']:\n",
    "    if i in dic.keys():\n",
    "        dic[i].append(id)\n",
    "        print('oi')\n",
    "    else:\n",
    "        dic[i]=[id]"
   ]
  },
  {
   "cell_type": "code",
   "execution_count": 48,
   "metadata": {},
   "outputs": [
    {
     "data": {
      "text/plain": [
       "[111, 111, 111]"
      ]
     },
     "execution_count": 48,
     "metadata": {},
     "output_type": "execute_result"
    }
   ],
   "source": [
    "dic.pop('a')"
   ]
  },
  {
   "cell_type": "code",
   "execution_count": 49,
   "metadata": {},
   "outputs": [
    {
     "data": {
      "text/plain": [
       "{'b': [111, 111, 111], 'c': [111, 111, 111]}"
      ]
     },
     "execution_count": 49,
     "metadata": {},
     "output_type": "execute_result"
    }
   ],
   "source": [
    "dic"
   ]
  },
  {
   "cell_type": "code",
   "execution_count": null,
   "metadata": {},
   "outputs": [],
   "source": []
  }
 ],
 "metadata": {
  "colab": {
   "collapsed_sections": [],
   "name": "versao2.ipynb",
   "provenance": [],
   "version": "0.3.2"
  },
  "kernelspec": {
   "display_name": "Python 3",
   "language": "python",
   "name": "python3"
  },
  "language_info": {
   "codemirror_mode": {
    "name": "ipython",
    "version": 3
   },
   "file_extension": ".py",
   "mimetype": "text/x-python",
   "name": "python",
   "nbconvert_exporter": "python",
   "pygments_lexer": "ipython3",
   "version": "3.7.3"
  }
 },
 "nbformat": 4,
 "nbformat_minor": 1
}
