{
 "cells": [
  {
   "cell_type": "code",
   "execution_count": 10,
   "metadata": {},
   "outputs": [],
   "source": [
    "import DICT1\n",
    "import DICT2\n",
    "import _pickle as cP"
   ]
  },
  {
   "cell_type": "code",
   "execution_count": 2,
   "metadata": {},
   "outputs": [],
   "source": [
    "a=open('englishText_0_10000',encoding='latin-1')\n",
    "b=a.read()"
   ]
  },
  {
   "cell_type": "code",
   "execution_count": 3,
   "metadata": {},
   "outputs": [],
   "source": [
    "c=DICT1.id_texts(b)"
   ]
  },
  {
   "cell_type": "code",
   "execution_count": 4,
   "metadata": {},
   "outputs": [
    {
     "data": {
      "text/plain": [
       "[\"'night, Mother\",\n",
       " 'For the film based on the play, see \\'night, Mother (film).;\\n\\'night, Mother is a 1983 play by Marsha Norman about a daughter, Jessie, and her mother, Thelma (referred to as \"Mama\" in the play).  The play opens with Jessie calmly telling Mama that by morning she\\'ll be dead, as she plans to commit suicide that very evening (she makes this revelation all while nonchalantly organizing household items and preparing to do her mother\\'s nails).  The subsequent dialogue between Jessie and Mama slowly reveals her reasons for her decision and her life with Mama and how thoroughly she has planned her own death, culminating in a disturbing yet unavoidable climax.\\n\\nWinner of the 1983 Pulitzer Prize for Drama, the original production at the American Repertory Theater in Cambridge, Massachusetts, starred Kathy Bates as Jessie and Anne Pitoniak as Mama. This production eventually made its way to Broadway, where it played at the John Golden Theatre with the same cast. It received 4 Tony Award nominations: Best Play, Best Actress in a Play (both Bates and Pitoniak) and Best Director (Tom Moore).\\n\\nThe 1986 film version of the same name starred Sissy Spacek and Anne Bancroft as daughter and mother, respectively. Marsha Norman adapted her own play and wrote the screenplay. Tom Moore, who directed the play on Broadway, also directed the film. The film added more characters, whereas the play featured only two performers.  The film received lukewarm reviews, though Bancroft received a Golden Globe nomination for Best Actress (Drama) in a Film.\\n\\nIn 2004, a Broadway revival starred Edie Falco and Brenda Blethyn.\\n\\n \\n\\nExternal links.\\nInternet Broadway Database entry for original 1983 production;\\nIBDB entry for 2005 revival;\\nPlay Concordance;\\n\\n\\n\\n\\n\\n']"
      ]
     },
     "execution_count": 4,
     "metadata": {},
     "output_type": "execute_result"
    }
   ],
   "source": [
    "c[0]"
   ]
  },
  {
   "cell_type": "code",
   "execution_count": 5,
   "metadata": {},
   "outputs": [],
   "source": [
    "d=DICT2.word_id(c)"
   ]
  },
  {
   "cell_type": "code",
   "execution_count": 16,
   "metadata": {},
   "outputs": [],
   "source": [
    "f=open('Abc','wb')\n",
    "cP.dump(d,f,2)"
   ]
  },
  {
   "cell_type": "code",
   "execution_count": null,
   "metadata": {},
   "outputs": [],
   "source": []
  }
 ],
 "metadata": {
  "kernelspec": {
   "display_name": "Python 3",
   "language": "python",
   "name": "python3"
  },
  "language_info": {
   "codemirror_mode": {
    "name": "ipython",
    "version": 3
   },
   "file_extension": ".py",
   "mimetype": "text/x-python",
   "name": "python",
   "nbconvert_exporter": "python",
   "pygments_lexer": "ipython3",
   "version": "3.7.3"
  }
 },
 "nbformat": 4,
 "nbformat_minor": 2
}
