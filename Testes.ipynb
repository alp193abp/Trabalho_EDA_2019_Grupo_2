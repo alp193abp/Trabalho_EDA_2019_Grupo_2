{
 "cells": [
  {
   "cell_type": "code",
   "execution_count": 96,
   "metadata": {},
   "outputs": [],
   "source": [
    "t='''<doc id=\"214730\" title=\"Henry Hallam\" nonfiltered=\"1\" processed=\"1\" dbindex=\"0\">\n",
    "Henry Hallam (July 9, 1777 - January 21, 1859) was an  English historian.\n",
    "\n",
    "The only son of John Hallam, canon of Windsor and dean of Bristol, he was educated at Eton and Christ Church, Oxford, graduating in 1799. Called to the bar, he practised for some years on the Oxford circuit; but his tastes were literary, and when, on his father's death in 1812, he inherited a small estate in Lincolnshire, he gave himself up wholly to academic study. He had become connected with the brilliant band of authors and politicians who led the Whig party, a connection to which he owed his appointment to the well-paid and easy post of commissioner of stamps; but took no part in politics himself.  He was, however, an active supporter of many popular movements--particularly of that which ended in the abolition of the slave trade; and he was sincerely attached to the political principles of the Whigs. \n",
    "\n",
    "Hallam's earliest literary work was undertaken in connexion with the great organ of the Whig party, the Edinburgh Review, where his review of Scott's Dryden attracted attention. His first great work, The View of the State of Europe during the Middle Ages, was produced in 1818, and was followed nine years later by the Constitutional History of England. In 1838-1839 appeared the Introduction to the Literature of Europe in the 15th, 16th and 17th Centuries.  These are the three works on which Hallam's fame rests. They took a place in English literature which was not seriously challenged until the 20th century. A volume of supplemental notes to his Middle Ages was published in 1848; these facts and dates represent nearly all of Hallam's career. The strongest personal interest in his life was the affliction which befell him in the loss of his children, one after another. His eldest son, Arthur Henry Hallam--the \"A.H.H.\" of Tennyson's In Memoriam, and by the testimony of his contemporaries a man of the most brilliant promise--died in 1833 at the age of twenty-two. Seventeen years later, his second son, Henry Fitzmaurice Hallam, was cut off like his brother at the very threshold of what might have been a great career. The premature death and high talents of these young men, and the association of one of them with the most popular poem of the age, have made Hallam's family afflictions better known than any other incidents of his life. He survived wife, daughter and sons by many years.\n",
    "\n",
    "In 1834 Hallam published The Remains in Prose and Verse of Arthur Henry Hallam, with a Sketch of his Life. In 1852 a selection of Literary Essays and Characters from the Literature of Europe was published. Hallam was a fellow of the Royal Society, and a trustee of the British Museum, and enjoyed many other appropriate distinctions. In 1830 he received the gold medal for history, founded by George IV.  The Middle Ages is described by Hallam himself as a series of historical dissertations, a comprehensive survey of the chief circumstances that can interest a philosophical inquirer during the period from the 5th to the 15th century. The work consists of nine long chapters, each of which is a complete treatise in itself. The history of France, of Italy, of Spain, of Germany, and of the Greek and Saracenic empires, sketched in rapid and general terms, is the subject of five separate chapters. Others deal with the great institutional features of medieval society--the development of the feudal system, of the ecclesiastical system, and of the free political system of England. The last chapter sketches the general state of society, the growth of commerce, manners, and literature in the Middle Ages. The book may be regarded as a general view of early modern history, preparatory to the more detailed treatment of special lines of inquiry carried out in his subsequent works, although Hallam's original intention was to continue the work on the scale on which it had been begun. \n",
    "\n",
    "The Constitutional History of England takes up the subject at the point at which it had been dropped in the View of the Middle Ages, viz, the accession of Henry VII, and carries it down to the accession of George III. Hallam stopped here for a characteristic reason, which it is impossible not to respect and to regret. He was unwilling to excite the prejudices of modern politics which seemed to him to run back through the whole period of the reign of George III; nevertheless, he was accused of bias.  The Quarterly Review for 1828 contains an article on the Constitutional History, written by Southey, full of reproach. The work, he says. is the \"production of a decided partisan,\" who \"rakes in the ashes of long-forgotten and a thousand times buried slanders, for the means of heaping obloquy on all who supported the established institutions of the country.\" Hallam's view of constitutional history was that it should contain only so much of the political and general history of the time as bears directly on specific changes in the organization of the state, including judicial as well as ecclesiastical institutions.  It was his cool treatment of such sanctified names as Charles I, Cranmer and Laud that provoked the indignation of Southey, who forgot that the same impartial measure was extended to statesmen on the other side.\n",
    "\n",
    "If Hallam ever deviated from perfect fairness, it was in the tacit assumption that the 19th century theory of the constitution was the right theory in previous centuries, and that those who departed from it on one side or the other were in the wrong. He did unconsciously antedate the constitution, and it is clear from incidental allusions in his last work that he did not favour the democratic changes he thought to be impending. Hallam, like Macaulay, ultimately referred all political questions to the standard of Whig constitutionalism. But he was scrupulously conscientious in collecting and weighing his materials. In this he was helped by his legal training, and it was this which made the Constitutional History one of the standard text-books of English politics.\n",
    "\n",
    "\n",
    "\n",
    "ENDOFARTICLE.\n",
    "</doc>\n",
    "<doc id=\"7986334\" title=\"Sungai Besi LRT station\" nonfiltered=\"2\" processed=\"2\" dbindex=\"1\">\n",
    "Sungai Besi LRT station is an LRT station in Sungai Besi, a town in the Federal Territory of Kuala Lumpur, Malaysia. This station is served by the Sri Petaling line and was opened in 1996, along with 17 other LRT stations. Its location is .\n",
    "\n",
    "See also.\n",
    " Ampang Line;\n",
    " Sri Petaling Line;\n",
    " Kelana Jaya Line;\n",
    " KL Monorail;\n",
    " Rawang-Seremban Line;\n",
    " Sentul-Port Klang Line;\n",
    "\n",
    "External links.\n",
    " Rapid KL Official Site;\n",
    " Syarikat Prasarana Negara Bhd;\n",
    "\n",
    "\n",
    "\n",
    "\n",
    "\n",
    "\n",
    "\n",
    "\n",
    "\n",
    "\n",
    "ENDOFARTICLE.\n",
    "</doc>'''"
   ]
  },
  {
   "cell_type": "code",
   "execution_count": 80,
   "metadata": {},
   "outputs": [
    {
     "data": {
      "text/plain": [
       "'<doc id=\"214730\" title=\"Henry Hallam\" nonfiltered=\"1\" processed=\"1\" dbindex=\"0\">\\nHenry Hallam (July 9, 1777 - January 21, 1859) was an  English historian.\\n\\nThe only son of John Hallam, canon of Windsor and dean of Bristol, he was educated at Eton and Christ Church, Oxford, graduating in 1799. Called to the bar, he practised for some years on the Oxford circuit; but his tastes were literary, and when, on his father\\'s death in 1812, he inherited a small estate in Lincolnshire, he gave himself up wholly to academic study. He had become connected with the brilliant band of authors and politicians who led the Whig party, a connection to which he owed his appointment to the well-paid and easy post of commissioner of stamps; but took no part in politics himself.  He was, however, an active supporter of many popular movements--particularly of that which ended in the abolition of the slave trade; and he was sincerely attached to the political principles of the Whigs. \\n\\nHallam\\'s earliest literary work was undertaken in connexion with the great organ of the Whig party, the Edinburgh Review, where his review of Scott\\'s Dryden attracted attention. His first great work, The View of the State of Europe during the Middle Ages, was produced in 1818, and was followed nine years later by the Constitutional History of England. In 1838-1839 appeared the Introduction to the Literature of Europe in the 15th, 16th and 17th Centuries.  These are the three works on which Hallam\\'s fame rests. They took a place in English literature which was not seriously challenged until the 20th century. A volume of supplemental notes to his Middle Ages was published in 1848; these facts and dates represent nearly all of Hallam\\'s career. The strongest personal interest in his life was the affliction which befell him in the loss of his children, one after another. His eldest son, Arthur Henry Hallam--the \"A.H.H.\" of Tennyson\\'s In Memoriam, and by the testimony of his contemporaries a man of the most brilliant promise--died in 1833 at the age of twenty-two. Seventeen years later, his second son, Henry Fitzmaurice Hallam, was cut off like his brother at the very threshold of what might have been a great career. The premature death and high talents of these young men, and the association of one of them with the most popular poem of the age, have made Hallam\\'s family afflictions better known than any other incidents of his life. He survived wife, daughter and sons by many years.\\n\\nIn 1834 Hallam published The Remains in Prose and Verse of Arthur Henry Hallam, with a Sketch of his Life. In 1852 a selection of Literary Essays and Characters from the Literature of Europe was published. Hallam was a fellow of the Royal Society, and a trustee of the British Museum, and enjoyed many other appropriate distinctions. In 1830 he received the gold medal for history, founded by George IV.  The Middle Ages is described by Hallam himself as a series of historical dissertations, a comprehensive survey of the chief circumstances that can interest a philosophical inquirer during the period from the 5th to the 15th century. The work consists of nine long chapters, each of which is a complete treatise in itself. The history of France, of Italy, of Spain, of Germany, and of the Greek and Saracenic empires, sketched in rapid and general terms, is the subject of five separate chapters. Others deal with the great institutional features of medieval society--the development of the feudal system, of the ecclesiastical system, and of the free political system of England. The last chapter sketches the general state of society, the growth of commerce, manners, and literature in the Middle Ages. The book may be regarded as a general view of early modern history, preparatory to the more detailed treatment of special lines of inquiry carried out in his subsequent works, although Hallam\\'s original intention was to continue the work on the scale on which it had been begun. \\n\\nThe Constitutional History of England takes up the subject at the point at which it had been dropped in the View of the Middle Ages, viz, the accession of Henry VII, and carries it down to the accession of George III. Hallam stopped here for a characteristic reason, which it is impossible not to respect and to regret. He was unwilling to excite the prejudices of modern politics which seemed to him to run back through the whole period of the reign of George III; nevertheless, he was accused of bias.  The Quarterly Review for 1828 contains an article on the Constitutional History, written by Southey, full of reproach. The work, he says. is the \"production of a decided partisan,\" who \"rakes in the ashes of long-forgotten and a thousand times buried slanders, for the means of heaping obloquy on all who supported the established institutions of the country.\" Hallam\\'s view of constitutional history was that it should contain only so much of the political and general history of the time as bears directly on specific changes in the organization of the state, including judicial as well as ecclesiastical institutions.  It was his cool treatment of such sanctified names as Charles I, Cranmer and Laud that provoked the indignation of Southey, who forgot that the same impartial measure was extended to statesmen on the other side.\\n\\nIf Hallam ever deviated from perfect fairness, it was in the tacit assumption that the 19th century theory of the constitution was the right theory in previous centuries, and that those who departed from it on one side or the other were in the wrong. He did unconsciously antedate the constitution, and it is clear from incidental allusions in his last work that he did not favour the democratic changes he thought to be impending. Hallam, like Macaulay, ultimately referred all political questions to the standard of Whig constitutionalism. But he was scrupulously conscientious in collecting and weighing his materials. In this he was helped by his legal training, and it was this which made the Constitutional History one of the standard text-books of English politics.\\n\\n\\n\\nENDOFARTICLE.\\n</doc>\\n<doc id=\"7986334\" title=\"Sungai Besi LRT station\" nonfiltered=\"2\" processed=\"2\" dbindex=\"1\">\\nSungai Besi LRT station is an LRT station in Sungai Besi, a town in the Federal Territory of Kuala Lumpur, Malaysia. This station is served by the Sri Petaling line and was opened in 1996, along with 17 other LRT stations. Its location is .\\n\\nSee also.\\n Ampang Line;\\n Sri Petaling Line;\\n Kelana Jaya Line;\\n KL Monorail;\\n Rawang-Seremban Line;\\n Sentul-Port Klang Line;\\n\\nExternal links.\\n Rapid KL Official Site;\\n Syarikat Prasarana Negara Bhd;\\n\\n\\n\\n\\n\\n\\n\\n\\n\\n\\nENDOFARTICLE.\\n</doc>'"
      ]
     },
     "execution_count": 80,
     "metadata": {},
     "output_type": "execute_result"
    }
   ],
   "source": [
    "t"
   ]
  },
  {
   "cell_type": "code",
   "execution_count": 52,
   "metadata": {},
   "outputs": [],
   "source": [
    "import re"
   ]
  },
  {
   "cell_type": "code",
   "execution_count": 81,
   "metadata": {},
   "outputs": [
    {
     "data": {
      "text/plain": [
       "'{\"214730\":[(\"Henry Hallam\"),(\"Henry Hallam (July 9, 1777 - January 21, 1859) was an  English historian.\\n\\nThe only son of John Hallam, canon of Windsor and dean of Bristol, he was educated at Eton and Christ Church, Oxford, graduating in 1799. Called to the bar, he practised for some years on the Oxford circuit; but his tastes were literary, and when, on his father\\'s death in 1812, he inherited a small estate in Lincolnshire, he gave himself up wholly to academic study. He had become connected with the brilliant band of authors and politicians who led the Whig party, a connection to which he owed his appointment to the well-paid and easy post of commissioner of stamps; but took no part in politics himself.  He was, however, an active supporter of many popular movements--particularly of that which ended in the abolition of the slave trade; and he was sincerely attached to the political principles of the Whigs. \\n\\nHallam\\'s earliest literary work was undertaken in connexion with the great organ of the Whig party, the Edinburgh Review, where his review of Scott\\'s Dryden attracted attention. His first great work, The View of the State of Europe during the Middle Ages, was produced in 1818, and was followed nine years later by the Constitutional History of England. In 1838-1839 appeared the Introduction to the Literature of Europe in the 15th, 16th and 17th Centuries.  These are the three works on which Hallam\\'s fame rests. They took a place in English literature which was not seriously challenged until the 20th century. A volume of supplemental notes to his Middle Ages was published in 1848; these facts and dates represent nearly all of Hallam\\'s career. The strongest personal interest in his life was the affliction which befell him in the loss of his children, one after another. His eldest son, Arthur Henry Hallam--the \"A.H.H.\" of Tennyson\\'s In Memoriam, and by the testimony of his contemporaries a man of the most brilliant promise--died in 1833 at the age of twenty-two. Seventeen years later, his second son, Henry Fitzmaurice Hallam, was cut off like his brother at the very threshold of what might have been a great career. The premature death and high talents of these young men, and the association of one of them with the most popular poem of the age, have made Hallam\\'s family afflictions better known than any other incidents of his life. He survived wife, daughter and sons by many years.\\n\\nIn 1834 Hallam published The Remains in Prose and Verse of Arthur Henry Hallam, with a Sketch of his Life. In 1852 a selection of Literary Essays and Characters from the Literature of Europe was published. Hallam was a fellow of the Royal Society, and a trustee of the British Museum, and enjoyed many other appropriate distinctions. In 1830 he received the gold medal for history, founded by George IV.  The Middle Ages is described by Hallam himself as a series of historical dissertations, a comprehensive survey of the chief circumstances that can interest a philosophical inquirer during the period from the 5th to the 15th century. The work consists of nine long chapters, each of which is a complete treatise in itself. The history of France, of Italy, of Spain, of Germany, and of the Greek and Saracenic empires, sketched in rapid and general terms, is the subject of five separate chapters. Others deal with the great institutional features of medieval society--the development of the feudal system, of the ecclesiastical system, and of the free political system of England. The last chapter sketches the general state of society, the growth of commerce, manners, and literature in the Middle Ages. The book may be regarded as a general view of early modern history, preparatory to the more detailed treatment of special lines of inquiry carried out in his subsequent works, although Hallam\\'s original intention was to continue the work on the scale on which it had been begun. \\n\\nThe Constitutional History of England takes up the subject at the point at which it had been dropped in the View of the Middle Ages, viz, the accession of Henry VII, and carries it down to the accession of George III. Hallam stopped here for a characteristic reason, which it is impossible not to respect and to regret. He was unwilling to excite the prejudices of modern politics which seemed to him to run back through the whole period of the reign of George III; nevertheless, he was accused of bias.  The Quarterly Review for 1828 contains an article on the Constitutional History, written by Southey, full of reproach. The work, he says. is the \"production of a decided partisan,\" who \"rakes in the ashes of long-forgotten and a thousand times buried slanders, for the means of heaping obloquy on all who supported the established institutions of the country.\" Hallam\\'s view of constitutional history was that it should contain only so much of the political and general history of the time as bears directly on specific changes in the organization of the state, including judicial as well as ecclesiastical institutions.  It was his cool treatment of such sanctified names as Charles I, Cranmer and Laud that provoked the indignation of Southey, who forgot that the same impartial measure was extended to statesmen on the other side.\\n\\nIf Hallam ever deviated from perfect fairness, it was in the tacit assumption that the 19th century theory of the constitution was the right theory in previous centuries, and that those who departed from it on one side or the other were in the wrong. He did unconsciously antedate the constitution, and it is clear from incidental allusions in his last work that he did not favour the democratic changes he thought to be impending. Hallam, like Macaulay, ultimately referred all political questions to the standard of Whig constitutionalism. But he was scrupulously conscientious in collecting and weighing his materials. In this he was helped by his legal training, and it was this which made the Constitutional History one of the standard text-books of English politics.\\n\\n\\n\\n\\n\\n\")],\"7986334\":[(\"Sungai Besi LRT station\"),(\"Sungai Besi LRT station is an LRT station in Sungai Besi, a town in the Federal Territory of Kuala Lumpur, Malaysia. This station is served by the Sri Petaling line and was opened in 1996, along with 17 other LRT stations. Its location is .\\n\\nSee also.\\n Ampang Line;\\n Sri Petaling Line;\\n Kelana Jaya Line;\\n KL Monorail;\\n Rawang-Seremban Line;\\n Sentul-Port Klang Line;\\n\\nExternal links.\\n Rapid KL Official Site;\\n Syarikat Prasarana Negara Bhd;\\n\\n\\n\\n\\n\\n\\n\\n\\n\\n\\n\\n\")]}'"
      ]
     },
     "execution_count": 81,
     "metadata": {},
     "output_type": "execute_result"
    }
   ],
   "source": [
    "t=re.sub('<doc id=','{',t,1)\n",
    "t=re.sub('<doc id=','\")],',t)\n",
    "t=re.sub(' title=',':[(',t)\n",
    "t=re.sub(' nonfiltered=\"\\d+\" processed=\"\\d+\" dbindex=\"\\d+\">\\n','),(\"',t)\n",
    "t=re.sub('ENDOFARTICLE.','',t)\n",
    "t=re.sub('</doc>','',t)\n",
    "t=t+'\")]}'\n",
    "t"
   ]
  },
  {
   "cell_type": "code",
   "execution_count": 97,
   "metadata": {},
   "outputs": [
    {
     "data": {
      "text/plain": [
       "['<doc id=\"214730\"', '<doc id=\"7986334\"']"
      ]
     },
     "execution_count": 97,
     "metadata": {},
     "output_type": "execute_result"
    }
   ],
   "source": [
    "list_id = re.findall('<doc id=\"\\d+\"',t)\n",
    "list_id"
   ]
  },
  {
   "cell_type": "code",
   "execution_count": 101,
   "metadata": {},
   "outputs": [],
   "source": [
    "l="
   ]
  },
  {
   "cell_type": "code",
   "execution_count": 102,
   "metadata": {},
   "outputs": [
    {
     "data": {
      "text/plain": [
       "[[]]"
      ]
     },
     "execution_count": 102,
     "metadata": {},
     "output_type": "execute_result"
    }
   ],
   "source": [
    "l"
   ]
  },
  {
   "cell_type": "code",
   "execution_count": null,
   "metadata": {},
   "outputs": [],
   "source": []
  }
 ],
 "metadata": {
  "kernelspec": {
   "display_name": "Python 3",
   "language": "python",
   "name": "python3"
  },
  "language_info": {
   "codemirror_mode": {
    "name": "ipython",
    "version": 3
   },
   "file_extension": ".py",
   "mimetype": "text/x-python",
   "name": "python",
   "nbconvert_exporter": "python",
   "pygments_lexer": "ipython3",
   "version": "3.7.3"
  }
 },
 "nbformat": 4,
 "nbformat_minor": 2
}
